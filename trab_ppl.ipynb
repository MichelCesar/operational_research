{
 "cells": [
  {
   "cell_type": "markdown",
   "id": "9a961134-bbe5-494f-ac58-beac15bca8c8",
   "metadata": {},
   "source": [
    "# Problema de Minimização de Custos - MBA Pesquisa Operacional"
   ]
  },
  {
   "cell_type": "markdown",
   "id": "c434ff88-42a8-4bbf-9b21-60bc288ff83d",
   "metadata": {},
   "source": [
    "### Importando a biblioteca pulp"
   ]
  },
  {
   "cell_type": "code",
   "execution_count": 1,
   "id": "e235c704-17fc-46a2-877f-4c6d98504a42",
   "metadata": {},
   "outputs": [],
   "source": [
    "from pulp import *"
   ]
  },
  {
   "cell_type": "markdown",
   "id": "9d4f4760-86af-44dc-9787-14aec746ace8",
   "metadata": {
    "tags": []
   },
   "source": [
    "##### Instânciando o modelo"
   ]
  },
  {
   "cell_type": "code",
   "execution_count": 7,
   "id": "c9948b13-af68-46c7-bbcb-a2f0b9b84e51",
   "metadata": {},
   "outputs": [],
   "source": [
    "model = LpProblem(\"arlines\", LpMinimize)"
   ]
  },
  {
   "cell_type": "markdown",
   "id": "07ebeb9c-ef9d-454a-9c72-261a727cf92e",
   "metadata": {
    "tags": []
   },
   "source": [
    "##### Definindo as variáveis de decisão"
   ]
  },
  {
   "cell_type": "code",
   "execution_count": 3,
   "id": "1788cd87-7a5c-48bc-b7a9-e61376934ae8",
   "metadata": {},
   "outputs": [],
   "source": [
    "x1 = LpVariable(\"x1\", lowBound=0)\n",
    "x2 = LpVariable(\"x2\", lowBound=0)\n",
    "x3 = LpVariable(\"x3\", lowBound=0)\n",
    "x4 = LpVariable(\"x4\", lowBound=0)\n",
    "x5 = LpVariable(\"x5\", lowBound=0)"
   ]
  },
  {
   "cell_type": "markdown",
   "id": "8594bdca-145a-4d00-ab2d-d48fd8c31ca9",
   "metadata": {},
   "source": [
    "##### Definindo as Restrições"
   ]
  },
  {
   "cell_type": "code",
   "execution_count": 4,
   "id": "0959c902-3431-4d8b-8566-ab0f92f9f10c",
   "metadata": {},
   "outputs": [],
   "source": [
    "model += 170*x1 + 160*x2 + 175*x3 + 180*x4 + 195*x5\n",
    "model += x1 >=48\n",
    "model += x1 + x2 >=79\n",
    "model += x1 + x2 >=65\n",
    "model += x1 + x2 + x3 >=87\n",
    "model += x2 + x3 >=64\n",
    "model += x3 + x4 >=73\n",
    "model += x3 + x4 >=82\n",
    "model += x4 >=43\n",
    "model += x4 + x5 >=52\n",
    "model += x5 >=15"
   ]
  },
  {
   "cell_type": "code",
   "execution_count": 5,
   "id": "eba1404e-96aa-419d-b13d-39bd838c2b1e",
   "metadata": {},
   "outputs": [],
   "source": [
    "status = model.solve()"
   ]
  },
  {
   "cell_type": "markdown",
   "id": "9a471fe6-9ab0-48e7-b692-4cb76704d5e4",
   "metadata": {},
   "source": [
    "##### Imprindo o resultado"
   ]
  },
  {
   "cell_type": "code",
   "execution_count": 6,
   "id": "6623e36f-38ed-40b4-90de-902e8b4e5196",
   "metadata": {},
   "outputs": [
    {
     "name": "stdout",
     "output_type": "stream",
     "text": [
      "arlines:\n",
      "MINIMIZE\n",
      "170*x1 + 160*x2 + 175*x3 + 180*x4 + 195*x5 + 0\n",
      "SUBJECT TO\n",
      "_C1: x1 >= 48\n",
      "\n",
      "_C2: x1 + x2 >= 79\n",
      "\n",
      "_C3: x1 + x2 >= 65\n",
      "\n",
      "_C4: x1 + x2 + x3 >= 87\n",
      "\n",
      "_C5: x2 + x3 >= 64\n",
      "\n",
      "_C6: x3 + x4 >= 73\n",
      "\n",
      "_C7: x3 + x4 >= 82\n",
      "\n",
      "_C8: x4 >= 43\n",
      "\n",
      "_C9: x4 + x5 >= 52\n",
      "\n",
      "_C10: x5 >= 15\n",
      "\n",
      "VARIABLES\n",
      "x1 Continuous\n",
      "x2 Continuous\n",
      "x3 Continuous\n",
      "x4 Continuous\n",
      "x5 Continuous\n",
      "\n",
      "Valor de x1: 48.0\n",
      "Valor de x2: 31.0\n",
      "Valor de x3: 39.0\n",
      "Valor de x4: 43.0\n",
      "Valor de x5: 15.0\n",
      "170*x1 + 160*x2 + 175*x3 + 180*x4 + 195*x5\n",
      "Optimal\n"
     ]
    }
   ],
   "source": [
    "print(model)\n",
    "\n",
    "print(\"Valor de x1: \" + str(value(x1)))\n",
    "print(\"Valor de x2: \" + str(value(x2)))\n",
    "print(\"Valor de x3: \" + str(value(x3)))\n",
    "print(\"Valor de x4: \" + str(value(x4)))\n",
    "print(\"Valor de x5: \" + str(value(x5)))\n",
    "print(model.objective)\n",
    "\n",
    "print(LpStatus[status])"
   ]
  },
  {
   "cell_type": "markdown",
   "id": "77280d79-8cb6-48bb-a24d-b51a7c85bf6b",
   "metadata": {},
   "source": [
    "## Resultado"
   ]
  },
  {
   "cell_type": "code",
   "execution_count": 18,
   "id": "200c07c4-2320-4365-a864-5255548a3e03",
   "metadata": {},
   "outputs": [
    {
     "name": "stdout",
     "output_type": "stream",
     "text": [
      "Resultado ótimo para o problema de alocação de funcionário\n",
      "\n",
      "Nº Funcionários no turno 1: 48.0\n",
      "Nº Funcionários no turno 2: 31.0\n",
      "Nº Funcionários no turno 3: 39.0\n",
      "Nº Funcionários no turno 4: 43.0\n",
      "Nº Funcionários no turno 5: 15.0\n",
      "\n",
      "Custo mínimo com equipe: 30610.0\n"
     ]
    }
   ],
   "source": [
    "print(\"Resultado ótimo para o problema de alocação de funcionário\")\n",
    "print()\n",
    "print(\"Nº Funcionários no turno 1: \" + str(value(x1)))\n",
    "print(\"Nº Funcionários no turno 2: \" + str(value(x2)))\n",
    "print(\"Nº Funcionários no turno 3: \" + str(value(x3)))\n",
    "print(\"Nº Funcionários no turno 4: \" + str(value(x4)))\n",
    "print(\"Nº Funcionários no turno 5: \" + str(value(x5)))\n",
    "\n",
    "custo_min = 170*value(x1) + 160*value(x2) + 175*value(x3) + 180*value(x4) + 195*value(x5) \n",
    "print()\n",
    "print(f\"Custo mínimo com equipe: {custo_min}\")"
   ]
  }
 ],
 "metadata": {
  "kernelspec": {
   "display_name": "Python 3 (ipykernel)",
   "language": "python",
   "name": "python3"
  },
  "language_info": {
   "codemirror_mode": {
    "name": "ipython",
    "version": 3
   },
   "file_extension": ".py",
   "mimetype": "text/x-python",
   "name": "python",
   "nbconvert_exporter": "python",
   "pygments_lexer": "ipython3",
   "version": "3.9.13"
  }
 },
 "nbformat": 4,
 "nbformat_minor": 5
}
